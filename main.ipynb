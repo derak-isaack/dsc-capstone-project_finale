{
 "cells": [
  {
   "cell_type": "markdown",
   "metadata": {},
   "source": [
    "<div style=\"padding: 35px;color:white;margin:10;font-size:200%;text-align:center;display:fill;border-radius:10px;overflow:hidden;background-image: url(https://images.pexels.com/photos/7078619/pexels-photo-7078619.jpeg?auto=compress&cs=tinysrgb&w=1260&h=750&dpr=1)\"><b><span style='color:black'><strong>EABL STOCK PRICE PREDICTION </strong></span></b> </div> "
   ]
  },
  {
   "cell_type": "markdown",
   "metadata": {},
   "source": [
    "### <b> <span style='color:#16C2D5'>|</span> Business Objectives</b>\n",
    "1. Build a robust time series model leveraging market indicators to forecast future EABL stock prices. \n",
    "2. Investigate viability of investing in EABL stock prices. \n",
    "3. Build an anomally detection system to identify unusual or unexpected patterns in EABL stock prices. "
   ]
  },
  {
   "cell_type": "markdown",
   "metadata": {},
   "source": [
    "### <b> <span style='color:#16C2D5'>|</span> Importing Libraries</b>"
   ]
  },
  {
   "cell_type": "code",
   "execution_count": 1,
   "metadata": {},
   "outputs": [],
   "source": [
    "# Data Visualization libraries\n",
    "import pandas as pd \n",
    "import numpy as np\n",
    "\n",
    "#Visualization libraries\n",
    "import matplotlib.pyplot as plt \n",
    "import seaborn as sns\n",
    "%matplotlib inline \n",
    "\n",
    "#Time series models\n",
    "from statsmodels.tsa.stattools import adfuller\n",
    "from statsmodels.tsa.seasonal import seasonal_decompose\n",
    "from statsmodels.tsa.arima_model import ARIMA\n",
    "\n",
    "# Machine leaning models \n",
    "from sklearn.linear_model import LinearRegression \n",
    "from sklearn.metrics import mean_squared_error, r2_score\n",
    "from sklearn.model_selection import train_test_split\n",
    "from sklearn.preprocessing import StandardScaler, MinMaxScaler, LabelEncoder  \n",
    "\n"
   ]
  },
  {
   "cell_type": "markdown",
   "metadata": {},
   "source": [
    "## <div style=\"padding: 20px;color:white;margin:10;font-size:90%;text-align:left;display:fill;border-radius:10px;overflow:hidden;background-image: url(https://w0.peakpx.com/wallpaper/957/661/HD-wallpaper-white-marble-white-stone-texture-marble-stone-background-white-stone.jpg)\"><b><span style='color:black'>1. Data Understanding</span></b> </div>\n"
   ]
  },
  {
   "cell_type": "code",
   "execution_count": 3,
   "metadata": {},
   "outputs": [
    {
     "data": {
      "text/html": [
       "<div>\n",
       "<style scoped>\n",
       "    .dataframe tbody tr th:only-of-type {\n",
       "        vertical-align: middle;\n",
       "    }\n",
       "\n",
       "    .dataframe tbody tr th {\n",
       "        vertical-align: top;\n",
       "    }\n",
       "\n",
       "    .dataframe thead th {\n",
       "        text-align: right;\n",
       "    }\n",
       "</style>\n",
       "<table border=\"1\" class=\"dataframe\">\n",
       "  <thead>\n",
       "    <tr style=\"text-align: right;\">\n",
       "      <th></th>\n",
       "      <th>Unnamed: 0</th>\n",
       "      <th>Date</th>\n",
       "      <th>Open</th>\n",
       "      <th>High</th>\n",
       "      <th>Low</th>\n",
       "      <th>Close</th>\n",
       "      <th>Average</th>\n",
       "      <th>Volume</th>\n",
       "      <th>Month</th>\n",
       "      <th>Year</th>\n",
       "      <th>Day</th>\n",
       "      <th>Annual Average Inflation</th>\n",
       "      <th>12-Month Inflation</th>\n",
       "      <th>Mean</th>\n",
       "      <th>Amount</th>\n",
       "      <th>Dividends per share</th>\n",
       "      <th>Earnings Per Share</th>\n",
       "      <th>Unemployment</th>\n",
       "    </tr>\n",
       "  </thead>\n",
       "  <tbody>\n",
       "    <tr>\n",
       "      <th>0</th>\n",
       "      <td>0</td>\n",
       "      <td>1/31/2024</td>\n",
       "      <td>104.00</td>\n",
       "      <td>111.00</td>\n",
       "      <td>104.0</td>\n",
       "      <td>110.0</td>\n",
       "      <td>106.00</td>\n",
       "      <td>42000</td>\n",
       "      <td>1</td>\n",
       "      <td>2024</td>\n",
       "      <td>31</td>\n",
       "      <td>NaN</td>\n",
       "      <td>6.9</td>\n",
       "      <td>161.0</td>\n",
       "      <td>1.00</td>\n",
       "      <td>0.0</td>\n",
       "      <td>NaN</td>\n",
       "      <td>NaN</td>\n",
       "    </tr>\n",
       "    <tr>\n",
       "      <th>1</th>\n",
       "      <td>1</td>\n",
       "      <td>1/30/2024</td>\n",
       "      <td>105.00</td>\n",
       "      <td>105.00</td>\n",
       "      <td>101.0</td>\n",
       "      <td>104.0</td>\n",
       "      <td>104.00</td>\n",
       "      <td>15600</td>\n",
       "      <td>1</td>\n",
       "      <td>2024</td>\n",
       "      <td>30</td>\n",
       "      <td>NaN</td>\n",
       "      <td>6.9</td>\n",
       "      <td>161.0</td>\n",
       "      <td>1.00</td>\n",
       "      <td>0.0</td>\n",
       "      <td>NaN</td>\n",
       "      <td>NaN</td>\n",
       "    </tr>\n",
       "    <tr>\n",
       "      <th>2</th>\n",
       "      <td>2</td>\n",
       "      <td>1/29/2024</td>\n",
       "      <td>105.00</td>\n",
       "      <td>105.00</td>\n",
       "      <td>99.0</td>\n",
       "      <td>103.5</td>\n",
       "      <td>100.00</td>\n",
       "      <td>596100</td>\n",
       "      <td>1</td>\n",
       "      <td>2024</td>\n",
       "      <td>29</td>\n",
       "      <td>NaN</td>\n",
       "      <td>6.9</td>\n",
       "      <td>162.0</td>\n",
       "      <td>1.00</td>\n",
       "      <td>0.0</td>\n",
       "      <td>NaN</td>\n",
       "      <td>NaN</td>\n",
       "    </tr>\n",
       "    <tr>\n",
       "      <th>3</th>\n",
       "      <td>3</td>\n",
       "      <td>1/26/2024</td>\n",
       "      <td>116.25</td>\n",
       "      <td>116.25</td>\n",
       "      <td>100.0</td>\n",
       "      <td>100.0</td>\n",
       "      <td>104.50</td>\n",
       "      <td>60500</td>\n",
       "      <td>1</td>\n",
       "      <td>2024</td>\n",
       "      <td>26</td>\n",
       "      <td>NaN</td>\n",
       "      <td>6.9</td>\n",
       "      <td>162.0</td>\n",
       "      <td>1.00</td>\n",
       "      <td>0.0</td>\n",
       "      <td>NaN</td>\n",
       "      <td>NaN</td>\n",
       "    </tr>\n",
       "    <tr>\n",
       "      <th>4</th>\n",
       "      <td>4</td>\n",
       "      <td>1/25/2024</td>\n",
       "      <td>119.75</td>\n",
       "      <td>120.00</td>\n",
       "      <td>118.0</td>\n",
       "      <td>118.0</td>\n",
       "      <td>118.25</td>\n",
       "      <td>5700</td>\n",
       "      <td>1</td>\n",
       "      <td>2024</td>\n",
       "      <td>25</td>\n",
       "      <td>NaN</td>\n",
       "      <td>6.9</td>\n",
       "      <td>163.0</td>\n",
       "      <td>1.75</td>\n",
       "      <td>0.0</td>\n",
       "      <td>NaN</td>\n",
       "      <td>NaN</td>\n",
       "    </tr>\n",
       "  </tbody>\n",
       "</table>\n",
       "</div>"
      ],
      "text/plain": [
       "   Unnamed: 0       Date    Open    High    Low  Close  Average  Volume  \\\n",
       "0           0  1/31/2024  104.00  111.00  104.0  110.0   106.00   42000   \n",
       "1           1  1/30/2024  105.00  105.00  101.0  104.0   104.00   15600   \n",
       "2           2  1/29/2024  105.00  105.00   99.0  103.5   100.00  596100   \n",
       "3           3  1/26/2024  116.25  116.25  100.0  100.0   104.50   60500   \n",
       "4           4  1/25/2024  119.75  120.00  118.0  118.0   118.25    5700   \n",
       "\n",
       "   Month  Year  Day  Annual Average Inflation  12-Month Inflation   Mean  \\\n",
       "0      1  2024   31                       NaN                 6.9  161.0   \n",
       "1      1  2024   30                       NaN                 6.9  161.0   \n",
       "2      1  2024   29                       NaN                 6.9  162.0   \n",
       "3      1  2024   26                       NaN                 6.9  162.0   \n",
       "4      1  2024   25                       NaN                 6.9  163.0   \n",
       "\n",
       "   Amount  Dividends per share  Earnings Per Share  Unemployment  \n",
       "0    1.00                  0.0                 NaN           NaN  \n",
       "1    1.00                  0.0                 NaN           NaN  \n",
       "2    1.00                  0.0                 NaN           NaN  \n",
       "3    1.00                  0.0                 NaN           NaN  \n",
       "4    1.75                  0.0                 NaN           NaN  "
      ]
     },
     "execution_count": 3,
     "metadata": {},
     "output_type": "execute_result"
    }
   ],
   "source": [
    "df = pd.read_csv('MergedData/final_merge.csv')\n",
    "df.head()"
   ]
  },
  {
   "cell_type": "code",
   "execution_count": 4,
   "metadata": {},
   "outputs": [
    {
     "name": "stdout",
     "output_type": "stream",
     "text": [
      "<class 'pandas.core.frame.DataFrame'>\n",
      "RangeIndex: 4353 entries, 0 to 4352\n",
      "Data columns (total 18 columns):\n",
      " #   Column                    Non-Null Count  Dtype  \n",
      "---  ------                    --------------  -----  \n",
      " 0   Unnamed: 0                4353 non-null   int64  \n",
      " 1   Date                      4353 non-null   object \n",
      " 2   Open                      4353 non-null   float64\n",
      " 3   High                      4353 non-null   float64\n",
      " 4   Low                       4353 non-null   float64\n",
      " 5   Close                     4353 non-null   float64\n",
      " 6   Average                   4353 non-null   float64\n",
      " 7   Volume                    4353 non-null   int64  \n",
      " 8   Month                     4353 non-null   int64  \n",
      " 9   Year                      4353 non-null   int64  \n",
      " 10  Day                       4353 non-null   int64  \n",
      " 11  Annual Average Inflation  4332 non-null   float64\n",
      " 12  12-Month Inflation        4353 non-null   float64\n",
      " 13  Mean                      4349 non-null   float64\n",
      " 14  Amount                    4353 non-null   float64\n",
      " 15  Dividends per share       4353 non-null   float64\n",
      " 16  Earnings Per Share        4332 non-null   float64\n",
      " 17  Unemployment              4332 non-null   float64\n",
      "dtypes: float64(12), int64(5), object(1)\n",
      "memory usage: 612.3+ KB\n"
     ]
    }
   ],
   "source": [
    "df.info()"
   ]
  },
  {
   "cell_type": "code",
   "execution_count": 5,
   "metadata": {},
   "outputs": [
    {
     "data": {
      "text/plain": [
       "(4353, 18)"
      ]
     },
     "execution_count": 5,
     "metadata": {},
     "output_type": "execute_result"
    }
   ],
   "source": [
    "df.shape"
   ]
  },
  {
   "cell_type": "code",
   "execution_count": 6,
   "metadata": {},
   "outputs": [],
   "source": [
    "#Convert the date column to datetime format.\n",
    "df['Date'] = pd.to_datetime(df['Date'])"
   ]
  },
  {
   "cell_type": "code",
   "execution_count": null,
   "metadata": {},
   "outputs": [],
   "source": []
  },
  {
   "cell_type": "code",
   "execution_count": null,
   "metadata": {},
   "outputs": [],
   "source": []
  },
  {
   "cell_type": "code",
   "execution_count": null,
   "metadata": {},
   "outputs": [],
   "source": []
  },
  {
   "cell_type": "code",
   "execution_count": null,
   "metadata": {},
   "outputs": [],
   "source": []
  },
  {
   "cell_type": "code",
   "execution_count": null,
   "metadata": {},
   "outputs": [],
   "source": []
  },
  {
   "cell_type": "markdown",
   "metadata": {},
   "source": []
  }
 ],
 "metadata": {
  "kernelspec": {
   "display_name": "Python 3",
   "language": "python",
   "name": "python3"
  },
  "language_info": {
   "codemirror_mode": {
    "name": "ipython",
    "version": 3
   },
   "file_extension": ".py",
   "mimetype": "text/x-python",
   "name": "python",
   "nbconvert_exporter": "python",
   "pygments_lexer": "ipython3",
   "version": "3.10.11"
  }
 },
 "nbformat": 4,
 "nbformat_minor": 2
}
